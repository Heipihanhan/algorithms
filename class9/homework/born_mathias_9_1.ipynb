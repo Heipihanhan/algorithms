{
 "cells": [
  {
   "cell_type": "markdown",
   "metadata": {},
   "source": [
    "# Assignment 1\n",
    "- Use the pseudocode you came up with in class to write your own 5-fold cross-validation function that splits the data set into 5 equal-sized sets\n",
    "- Don't forget to shuffle the input before assigning to sets\n",
    "- You can use the fit(), predict(), and score() functions of your model in your functions\n",
    "- Test the results with the sklearn cross_val_score\n",
    "- In your PR, discuss what challenges you had creating this function and if it helped you better understand cross validation"
   ]
  },
  {
   "cell_type": "markdown",
   "metadata": {},
   "source": [
    "## Pseudocode\n",
    "\n",
    "    function for 5-fold cross validation:\n",
    "\n",
    "        Shuffle the index of the data. \n",
    "    \n",
    "        Split the data in 5 parts.\n",
    "    \n",
    "        Loop, repeated 5 times:\n",
    "        \n",
    "            Train the system using four parts. \n",
    "        \n",
    "            Compute the accuracy using the not used part.\n",
    "        \n",
    "            Store it in a dictionary.\n",
    "        \n",
    "        Compute the average for the 5 accuracy values from the loop."
   ]
  },
  {
   "cell_type": "code",
   "execution_count": 50,
   "metadata": {
    "collapsed": true
   },
   "outputs": [],
   "source": [
    "import pandas as pd\n",
    "%matplotlib inline\n",
    "from sklearn import datasets\n",
    "from sklearn import tree\n",
    "import matplotlib.pyplot as plt\n",
    "from random import shuffle"
   ]
  },
  {
   "cell_type": "code",
   "execution_count": 157,
   "metadata": {
    "collapsed": false
   },
   "outputs": [],
   "source": [
    "def lets_shake(x,y):\n",
    "    zipped = zip(x,y) # Let's bind the x and the y together before shakin'.\n",
    "    zipped_list = list(zipped) \n",
    "    shuffle(zipped_list)\n",
    "    x, y = zip(*zipped_list)\n",
    "    return x, y"
   ]
  },
  {
   "cell_type": "code",
   "execution_count": 222,
   "metadata": {
    "collapsed": false
   },
   "outputs": [],
   "source": [
    "def the_splitter(x,y,folds):\n",
    "    divider = int(len(x)/folds)\n",
    "    group_dict = {}\n",
    "    \n",
    "    for i in range(0,folds):\n",
    "        temp_list = list()\n",
    "        for j in range(i*divider,(i+1)*divider):\n",
    "            temp_list.append((x[j], y[j]))\n",
    "        group_dict['group' + str(i)] = temp_list\n",
    "    return group_dict\n",
    "# This function still neglect a small rest of the values. "
   ]
  },
  {
   "cell_type": "code",
   "execution_count": 246,
   "metadata": {
    "collapsed": false
   },
   "outputs": [],
   "source": [
    "def the_test(groups,folds):\n",
    "    dt = tree.DecisionTreeClassifier()\n",
    "    for group in groups:\n",
    "        dt = dt.fit(x,y)\n",
    "        #dt.predict()\n",
    "        #score() "
   ]
  },
  {
   "cell_type": "code",
   "execution_count": 231,
   "metadata": {
    "collapsed": false
   },
   "outputs": [],
   "source": [
    "x = [[1, 1], [2, 2], [3, 3], [4, 4], [5,5], [6,6], [7,7], [8,8], [9,9], [10,10]]\n",
    "y = [0,2,1,1,0,1,2,1,1,0]"
   ]
  },
  {
   "cell_type": "code",
   "execution_count": 232,
   "metadata": {
    "collapsed": false
   },
   "outputs": [],
   "source": [
    "x,y = lets_shake(x,y)\n",
    "groups = the_splitter(x,y,5)"
   ]
  },
  {
   "cell_type": "code",
   "execution_count": 236,
   "metadata": {
    "collapsed": false
   },
   "outputs": [
    {
     "data": {
      "text/plain": [
       "{'group0': [([3, 3], 1), ([4, 4], 1)],\n",
       " 'group1': [([7, 7], 2), ([5, 5], 0)],\n",
       " 'group2': [([9, 9], 1), ([10, 10], 0)],\n",
       " 'group3': [([8, 8], 1), ([1, 1], 0)],\n",
       " 'group4': [([2, 2], 2), ([6, 6], 1)]}"
      ]
     },
     "execution_count": 236,
     "metadata": {},
     "output_type": "execute_result"
    }
   ],
   "source": [
    "groups"
   ]
  },
  {
   "cell_type": "code",
   "execution_count": null,
   "metadata": {
    "collapsed": false
   },
   "outputs": [],
   "source": []
  },
  {
   "cell_type": "code",
   "execution_count": null,
   "metadata": {
    "collapsed": false
   },
   "outputs": [],
   "source": [
    "\n"
   ]
  },
  {
   "cell_type": "code",
   "execution_count": null,
   "metadata": {
    "collapsed": true
   },
   "outputs": [],
   "source": []
  }
 ],
 "metadata": {
  "kernelspec": {
   "display_name": "Python 3",
   "language": "python",
   "name": "python3"
  },
  "language_info": {
   "codemirror_mode": {
    "name": "ipython",
    "version": 3
   },
   "file_extension": ".py",
   "mimetype": "text/x-python",
   "name": "python",
   "nbconvert_exporter": "python",
   "pygments_lexer": "ipython3",
   "version": "3.5.2"
  }
 },
 "nbformat": 4,
 "nbformat_minor": 0
}
